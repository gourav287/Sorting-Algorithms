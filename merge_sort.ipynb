{
 "cells": [
  {
   "cell_type": "markdown",
   "metadata": {},
   "source": [
    "# Merge Sort\n",
    "\n",
    "This program illustrates the implementation of merge sort algorithm\n",
    "\n",
    "This algorithm takes the complexity of O(nlogn) to sort a given array"
   ]
  },
  {
   "cell_type": "code",
   "execution_count": 1,
   "metadata": {},
   "outputs": [],
   "source": [
    "# Function to merge two sorted subarrays into one sorted array\n",
    "def Merge(A, B):\n",
    "    \n",
    "    #Initialize an empty array\n",
    "    C = []\n",
    "    \n",
    "    #Looping until at least one subarray terminates\n",
    "    while A and B:\n",
    "        \n",
    "        # move the smallest of the two elements into array\n",
    "        # and delete it from its subarray\n",
    "        if A[0] <= B[0]:\n",
    "            C.append(A[0])\n",
    "            A.remove(A[0])\n",
    "        \n",
    "        else:\n",
    "            C.append(B[0])\n",
    "            B.remove(B[0])\n",
    "    \n",
    "    # Copy all the elements of the remaining array\n",
    "    C.extend(A) if A else C.extend(B)\n",
    "    \n",
    "    #Return the concatenated array\n",
    "    return C"
   ]
  },
  {
   "cell_type": "code",
   "execution_count": 2,
   "metadata": {},
   "outputs": [],
   "source": [
    "# Function to implement Merge Sort Algorithm\n",
    "def MergeSort(A):\n",
    "    \n",
    "    #Length of array\n",
    "    n = len(A)\n",
    "    \n",
    "    #One element doesn't need sorting\n",
    "    if n == 1:\n",
    "        return A\n",
    "    \n",
    "    # n//2 to divide array in equal parts\n",
    "    m = n // 2\n",
    "    \n",
    "    # Merge Sort on first half part of array\n",
    "    A1 = MergeSort(A[:m])\n",
    "    \n",
    "    #Merge Sort on the second half part of array\n",
    "    A2 = MergeSort(A[m:])\n",
    "    \n",
    "    # Merging both the parts after sorting\n",
    "    Af = Merge(A1, A2)\n",
    "    \n",
    "    #Return Sorted array\n",
    "    return Af"
   ]
  },
  {
   "cell_type": "code",
   "execution_count": 3,
   "metadata": {},
   "outputs": [
    {
     "name": "stdout",
     "output_type": "stream",
     "text": [
      "12 54 21 62 47 54 20 01 21 54 93 59\n",
      "The sorted array is:\n",
      " 1 12 20 21 21 47 54 54 54 59 62 93\n"
     ]
    }
   ],
   "source": [
    "# The driver code\n",
    "if __name__ == '__main__':\n",
    "    \n",
    "    # Input the array\n",
    "    A = list(map(int, input().split()))\n",
    "    \n",
    "    #Apply Merge Sort\n",
    "    A = MergeSort(A)\n",
    "    \n",
    "    #Print Sorted array\n",
    "    print(\"The sorted array is:\\n\", *A)"
   ]
  },
  {
   "cell_type": "code",
   "execution_count": null,
   "metadata": {},
   "outputs": [],
   "source": []
  }
 ],
 "metadata": {
  "kernelspec": {
   "display_name": "Python 3",
   "language": "python",
   "name": "python3"
  },
  "language_info": {
   "codemirror_mode": {
    "name": "ipython",
    "version": 3
   },
   "file_extension": ".py",
   "mimetype": "text/x-python",
   "name": "python",
   "nbconvert_exporter": "python",
   "pygments_lexer": "ipython3",
   "version": "3.6.5"
  }
 },
 "nbformat": 4,
 "nbformat_minor": 2
}
