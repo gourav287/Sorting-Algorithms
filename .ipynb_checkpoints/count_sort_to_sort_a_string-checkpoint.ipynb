{
 "cells": [
  {
   "cell_type": "markdown",
   "metadata": {},
   "source": [
    "# Count Sort\n",
    "\n",
    "This file contains implementation of Count Sort, being used to sort a string of alphabets.\n",
    "\n",
    "The approach is to keep the count of every character in the given string.\n",
    "\n",
    "And add them again in their lexicographical order.\n",
    "\n",
    "This approach takes time complexity of O(n).\n",
    "\n",
    "The space complexity of this sort is also in the order of O(n)."
   ]
  },
  {
   "cell_type": "code",
   "execution_count": 1,
   "metadata": {},
   "outputs": [],
   "source": [
    "# Function to sort the string\n",
    "def countingSort(s,n):\n",
    "    \n",
    "    # Create the counting array for all the alphabets, index of a=0, z=25\n",
    "    string = [0] * 26\n",
    "    \n",
    "    # Store the counts of all the alphabets using their ascii values\n",
    "    for i in range(n):\n",
    "        \n",
    "        val = ord(s[i]) - 97\n",
    "        \n",
    "        string[val] += 1\n",
    "    \n",
    "    # Empty the string\n",
    "    s = ''\n",
    "    \n",
    "    # Append all the characters in lexicographical order in the string\n",
    "    # using their count\n",
    "    for i in range(26):\n",
    "        \n",
    "        for j in range(string[i]):\n",
    "            \n",
    "            s += chr(i + 97)\n",
    "    \n",
    "    # Return the new string\n",
    "    return s"
   ]
  },
  {
   "cell_type": "code",
   "execution_count": 2,
   "metadata": {},
   "outputs": [
    {
     "name": "stdout",
     "output_type": "stream",
     "text": [
      "gouravsaxena\n",
      "The sorted string is: aaaegnorsuvx\n"
     ]
    }
   ],
   "source": [
    "# The driver code\n",
    "if __name__ == \"__main__\":\n",
    "    \n",
    "    # Input the string\n",
    "    s = input()\n",
    "    \n",
    "    # Length of the string\n",
    "    n = len(s)\n",
    "    \n",
    "    # Print the sorter string using count sort\n",
    "    print(\"The sorted string is: {}\".format(countingSort(s, n)))"
   ]
  }
 ],
 "metadata": {
  "kernelspec": {
   "display_name": "Python 3",
   "language": "python",
   "name": "python3"
  },
  "language_info": {
   "codemirror_mode": {
    "name": "ipython",
    "version": 3
   },
   "file_extension": ".py",
   "mimetype": "text/x-python",
   "name": "python",
   "nbconvert_exporter": "python",
   "pygments_lexer": "ipython3",
   "version": "3.8.3"
  }
 },
 "nbformat": 4,
 "nbformat_minor": 4
}
