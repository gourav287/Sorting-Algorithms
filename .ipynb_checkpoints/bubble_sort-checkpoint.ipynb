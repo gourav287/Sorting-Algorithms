{
 "cells": [
  {
   "cell_type": "markdown",
   "metadata": {},
   "source": [
    "# Bubble Sort\n",
    "\n",
    "This file contains implementation of the Bubble Sort Algorithm\n",
    "\n",
    "Here, we just keep swapping adjacent elements until they are in sorted order\n",
    "\n",
    "It has a complexity of O(n²) for both worst and average case"
   ]
  },
  {
   "cell_type": "code",
   "execution_count": 1,
   "metadata": {},
   "outputs": [],
   "source": [
    "#Function to implement Bubble Sort\n",
    "def BubbleSort(arr):\n",
    "    \n",
    "    #Calculate length of array\n",
    "    n = len(arr)\n",
    "    \n",
    "    # Iteraate through all the indexes until the second-last one\n",
    "    for i in range(n-1):\n",
    "        \n",
    "        # A bool value to check if array is already sorted\n",
    "        swapped = False\n",
    "        \n",
    "        #Iterate through the indexes before the i-th index\n",
    "        for j in range(n - i - 1):\n",
    "            \n",
    "            # Swap adjacent indexes if smaller index has greater value and assign True to the bool swapped\n",
    "            if arr[j] > arr[j+1]:\n",
    "                \n",
    "                arr[j], arr[j+1] = arr[j+1], arr[j]\n",
    "                \n",
    "                swapped = True\n",
    "        \n",
    "        # Break if no swapping happened as the array is sorted already\n",
    "        if swapped == False:\n",
    "            \n",
    "            break"
   ]
  },
  {
   "cell_type": "code",
   "execution_count": 2,
   "metadata": {},
   "outputs": [],
   "source": [
    "#Function to print the array\n",
    "def printArray(arr):\n",
    "    \n",
    "    #Printing the array\n",
    "    print(\"The Sorted array is:\")\n",
    "    \n",
    "    # \"*\" prints all the values of a list separated by a unit space\n",
    "    print(*arr)"
   ]
  },
  {
   "cell_type": "code",
   "execution_count": 3,
   "metadata": {},
   "outputs": [
    {
     "name": "stdout",
     "output_type": "stream",
     "text": [
      "1 5 4 8 6 5 9 4 2 3 6 4 8 3\n",
      "The Sorted array is:\n",
      "1 2 3 3 4 4 4 5 5 6 6 8 8 9\n"
     ]
    }
   ],
   "source": [
    "#Driver Code\n",
    "if __name__ == '__main__':\n",
    "    \n",
    "    #Input the array\n",
    "    arr = list(map(int, input().split()))\n",
    "    \n",
    "    #Apply Bubble Sort\n",
    "    BubbleSort(arr)\n",
    "    \n",
    "    #print the sorted array\n",
    "    printArray(arr)"
   ]
  },
  {
   "cell_type": "code",
   "execution_count": null,
   "metadata": {},
   "outputs": [],
   "source": []
  }
 ],
 "metadata": {
  "kernelspec": {
   "display_name": "Python 3",
   "language": "python",
   "name": "python3"
  },
  "language_info": {
   "codemirror_mode": {
    "name": "ipython",
    "version": 3
   },
   "file_extension": ".py",
   "mimetype": "text/x-python",
   "name": "python",
   "nbconvert_exporter": "python",
   "pygments_lexer": "ipython3",
   "version": "3.6.5"
  }
 },
 "nbformat": 4,
 "nbformat_minor": 2
}
