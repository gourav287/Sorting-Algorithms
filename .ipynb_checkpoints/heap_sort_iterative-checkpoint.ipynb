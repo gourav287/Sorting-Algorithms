{
 "cells": [
  {
   "cell_type": "markdown",
   "metadata": {},
   "source": [
    "# Heap Sort (Iterative)\n",
    "\n",
    "This file contains the iterative implementation of heap sort.\n",
    "\n",
    "It sorts an array with the time complexity of O(nlogn) and hence is a very effective sorting algorithm\n",
    "\n",
    "You can also check for the recursive implementation in the same repository"
   ]
  },
  {
   "cell_type": "code",
   "execution_count": 1,
   "metadata": {},
   "outputs": [],
   "source": [
    "# Implementation of heapifying an array (iteratively)\n",
    "def heapify(arr, n, index):\n",
    "\n",
    "    # Initializing a temporary variable equal to index\n",
    "    cur_ind = index\n",
    "\n",
    "    # Looping through the array till last element\n",
    "    while cur_ind < n:\n",
    "\n",
    "        # Initializing the variable 'lar'\n",
    "        lar = cur_ind\n",
    "\n",
    "        # Initializing left and right child indices\n",
    "        l, r = 2 * lar + 1, 2 * lar + 2\n",
    "\n",
    "        # Updating 'lar' to denote largest of the node and left child\n",
    "        if l < n and arr[lar] < arr[l]:\n",
    "            \n",
    "            lar = l\n",
    "\n",
    "        # Updating lar to denote largest of the node, left and right child\n",
    "        if r < n and arr[lar] < arr[r]:\n",
    "            \n",
    "            lar = r\n",
    "\n",
    "        # If the node isn't the largest, you need to update by swapping\n",
    "        # Also need to update value of current index so that further\n",
    "        # heapification can occur\n",
    "        if lar != cur_ind:\n",
    "            \n",
    "            arr[lar], arr[cur_ind] = arr[cur_ind], arr[lar]\n",
    "            \n",
    "            cur_ind = lar\n",
    "\n",
    "        # If no need to update, means entire portion is heapified now\n",
    "        #so break\n",
    "        else:\n",
    "            \n",
    "            break"
   ]
  },
  {
   "cell_type": "code",
   "execution_count": 2,
   "metadata": {},
   "outputs": [],
   "source": [
    "# Implementing the heap sort algorithm\n",
    "def heapSort(arr, n):\n",
    "\n",
    "    # Create a heap out of the array\n",
    "    # Iterated from n//2-1 because this is the last non leaf index\n",
    "    # Heapifying leaf index is a waste of time\n",
    "    for i in range(n // 2 - 1, -1, -1):\n",
    "        \n",
    "        heapify(arr, n, i)\n",
    "\n",
    "    # Sorting the entire array using heap\n",
    "    for i in range(n-1, 0, -1):\n",
    "        \n",
    "        arr[0], arr[i] = arr[i], arr[0]\n",
    "        \n",
    "        heapify(arr, i, 0)"
   ]
  },
  {
   "cell_type": "code",
   "execution_count": 3,
   "metadata": {},
   "outputs": [
    {
     "name": "stdout",
     "output_type": "stream",
     "text": [
      "75 84 61 39 85 94 75 15 95 69 90 48 37 21\n",
      "The sorted array is:\n",
      " 15 21 37 39 48 61 69 75 75 84 85 90 94 95\n"
     ]
    }
   ],
   "source": [
    "# The driver code of iterative heap sort algorithm\n",
    "if __name__ == '__main__':\n",
    "\n",
    "    # Inputting the array\n",
    "    arr = list(map(int, input().split()))\n",
    "\n",
    "    # Applying the heap sort algorithm\n",
    "    heapSort(arr, len(arr))\n",
    "\n",
    "    # Printing the sorted array\n",
    "    print(\"The sorted array is:\\n\", *arr)"
   ]
  },
  {
   "cell_type": "code",
   "execution_count": null,
   "metadata": {},
   "outputs": [],
   "source": []
  }
 ],
 "metadata": {
  "kernelspec": {
   "display_name": "Python 3",
   "language": "python",
   "name": "python3"
  },
  "language_info": {
   "codemirror_mode": {
    "name": "ipython",
    "version": 3
   },
   "file_extension": ".py",
   "mimetype": "text/x-python",
   "name": "python",
   "nbconvert_exporter": "python",
   "pygments_lexer": "ipython3",
   "version": "3.7.6"
  }
 },
 "nbformat": 4,
 "nbformat_minor": 4
}
