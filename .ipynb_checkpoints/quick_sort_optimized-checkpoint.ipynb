{
 "cells": [
  {
   "cell_type": "markdown",
   "metadata": {},
   "source": [
    "# Quick Sort\n",
    "\n",
    "This file contains implementation of optimized quick sort algorithm.\n",
    "\n",
    "It takes the time complexity of O(nlogn).\n",
    "\n",
    "This works on a three way partitioning. This is done so as to tackle the issue of equal elements where simple quicksort may take O(n²) time.\n",
    "\n",
    "It also uses conditional recursion to save itself from unnecessary recursion and be faster than the usual quick sort algorithm\n",
    "\n",
    "You can find my other file with the simple basic implementation of quick sort algorithm."
   ]
  },
  {
   "cell_type": "code",
   "execution_count": 1,
   "metadata": {},
   "outputs": [],
   "source": [
    "# Random Integer will be used to select pivot element of the list\n",
    "# I have also used it in the check function (only to debug the code)\n",
    "from random import randint"
   ]
  },
  {
   "cell_type": "code",
   "execution_count": 2,
   "metadata": {},
   "outputs": [],
   "source": [
    "# Applying the 3 way partitioning algorithm through checking and swapping\n",
    "# It partitions the array into 3 parts:\n",
    "# Elements less than pivot, equal to pivot and greater than pivot value\n",
    "# This dramatically increases the speed of quick sort, especially in case of duplicacy of elements\n",
    "def Partition(a, l, r):\n",
    "    \n",
    "    # Storing the pivot value\n",
    "    piv_val = a[l]\n",
    "    \n",
    "    # Initializing j and k\n",
    "    m1, m2 = l, l\n",
    "    \n",
    "    # Looping from the element next to pivot, to the very last element of passed sub-array\n",
    "    for i in range(l + 1, r + 1):\n",
    "        \n",
    "        if a[i] <= piv_val:\n",
    "            \n",
    "            m1 += 1\n",
    "            \n",
    "            a[i], a[m1] = a[m1], a[i]\n",
    "            \n",
    "            if a[m1] < piv_val:\n",
    "            \n",
    "                m2 += 1\n",
    "                \n",
    "                a[m1], a[m2] = a[m2], a[m1]\n",
    "    \n",
    "    #Adjusting pivot element to it's rightful place\n",
    "    a[m2], a[l] = a[l], a[m2]\n",
    "    \n",
    "    # Returning both the indexes\n",
    "    return (m2, m1)"
   ]
  },
  {
   "cell_type": "code",
   "execution_count": 3,
   "metadata": {},
   "outputs": [],
   "source": [
    "#The main function working to sort the array in a more optimized way\n",
    "def QuickSort(a, l, r):\n",
    "    \n",
    "    # Looping until necessary\n",
    "    while l < r:\n",
    "        \n",
    "        # Deciding the pivot index (randomly)\n",
    "        pivot = randint(l, r)\n",
    "        \n",
    "        # Bringing the pivot to leftmost place\n",
    "        a[l], a[pivot] = a[pivot], a[l]\n",
    "        \n",
    "        # Getting partitioning indices of partitioned subarray\n",
    "        (m1, m2) = Partition(a, l, r)\n",
    "        \n",
    "        # Only choosing recursion to the smaller subarray then update limits to work on other part\n",
    "        # saves unnecessary recursion and hence, time\n",
    "        if m1 - l < r - m2:\n",
    "            \n",
    "            QuickSort(a, l, m1 - 1)\n",
    "            \n",
    "            l = m2 + 1\n",
    "        \n",
    "        else:\n",
    "        \n",
    "            QuickSort(a, m2 + 1, r)\n",
    "            \n",
    "            r = m1 - 1"
   ]
  },
  {
   "cell_type": "code",
   "execution_count": 4,
   "metadata": {},
   "outputs": [],
   "source": [
    "#The check function used to debug the quicksort algorithm by trying through enormous number of sample tests\n",
    "def check():\n",
    "    \n",
    "    # Keep checking in search of a bug\n",
    "    while 1:\n",
    "        \n",
    "        # Choose random size of array\n",
    "        n = randint(1, 50)\n",
    "        \n",
    "        # Elements of array chosen randomly\n",
    "        a = [randint(1, 2000) for i in range(n)]\n",
    "        \n",
    "        print('\\n', n, a, sep = '\\n')\n",
    "        \n",
    "        # Applying optimized quicksort on the array\n",
    "        QuickSort(a, 0, n-1)\n",
    "        \n",
    "        # Keep checking if no error found, else stop execution\n",
    "        if a == sorted(a):\n",
    "        \n",
    "            print(a)\n",
    "        \n",
    "        else:\n",
    "            \n",
    "            print(\"Mission Failed !\", a, sep = '\\n')\n",
    "            \n",
    "            break\n",
    "    \n",
    "    return 0"
   ]
  },
  {
   "cell_type": "code",
   "execution_count": 5,
   "metadata": {},
   "outputs": [
    {
     "name": "stdout",
     "output_type": "stream",
     "text": [
      "7\n",
      "64 48 75 12 39 51 21\n",
      "The sorted array is :\n",
      " 12 21 39 48 51 64 75\n"
     ]
    }
   ],
   "source": [
    "#The driver code of the program\n",
    "if __name__ == '__main__':\n",
    "    \n",
    "    # Only used while debugging\n",
    "    #check()\n",
    "    \n",
    "    # Input size of array\n",
    "    n = int(input())\n",
    "    \n",
    "    # Input the array\n",
    "    a = list(map(int, input().split()))\n",
    "    \n",
    "    # Apply optimized quick sort algorithm\n",
    "    QuickSort(a, 0, n-1)\n",
    "    \n",
    "    # Print the sorted array\n",
    "    print(\"The sorted array is :\\n\", *a)\n"
   ]
  },
  {
   "cell_type": "code",
   "execution_count": null,
   "metadata": {},
   "outputs": [],
   "source": []
  }
 ],
 "metadata": {
  "kernelspec": {
   "display_name": "Python 3",
   "language": "python",
   "name": "python3"
  },
  "language_info": {
   "codemirror_mode": {
    "name": "ipython",
    "version": 3
   },
   "file_extension": ".py",
   "mimetype": "text/x-python",
   "name": "python",
   "nbconvert_exporter": "python",
   "pygments_lexer": "ipython3",
   "version": "3.7.6"
  }
 },
 "nbformat": 4,
 "nbformat_minor": 4
}
