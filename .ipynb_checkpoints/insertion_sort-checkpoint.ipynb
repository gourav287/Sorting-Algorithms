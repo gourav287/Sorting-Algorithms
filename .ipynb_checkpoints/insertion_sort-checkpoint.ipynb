{
 "cells": [
  {
   "cell_type": "markdown",
   "metadata": {},
   "source": [
    "# Insertion Sort\n",
    "\n",
    "This file contains code for the insertion sort algorithm"
   ]
  },
  {
   "cell_type": "code",
   "execution_count": 1,
   "metadata": {},
   "outputs": [],
   "source": [
    "#Function to sort the array through selection sort\n",
    "def InsertionSort(arr):\n",
    "    \n",
    "    # Traverse through the entire array, starting from index 1 \n",
    "    for i in range(1, len(arr)): \n",
    "  \n",
    "        curr = arr[i]\n",
    "        \n",
    "        # Elements to the left and greater than\n",
    "        # the current value are moved one place right \n",
    "        j = i-1\n",
    "        \n",
    "        while j >= 0 and curr < arr[j] : \n",
    "            \n",
    "            arr[j + 1] = arr[j] \n",
    "            \n",
    "            j -= 1\n",
    "        \n",
    "        #current value is placed into its rightful sorted place\n",
    "        arr[j + 1] = curr"
   ]
  },
  {
   "cell_type": "code",
   "execution_count": 2,
   "metadata": {},
   "outputs": [],
   "source": [
    "#Function to print the array\n",
    "def printArray(arr):\n",
    "    \n",
    "    #Printing the array\n",
    "    print(\"The Sorted array is:\")\n",
    "    \n",
    "    # \"*\" prints all the values of a list separated by a unit space\n",
    "    print(*arr)"
   ]
  },
  {
   "cell_type": "code",
   "execution_count": 3,
   "metadata": {},
   "outputs": [
    {
     "name": "stdout",
     "output_type": "stream",
     "text": [
      "61 52 46 64 25 52 16 61 48 8 59\n",
      "The Sorted array is:\n",
      "8 16 25 46 48 52 52 59 61 61 64\n"
     ]
    }
   ],
   "source": [
    "#Driver Code\n",
    "if __name__ == '__main__':\n",
    "    \n",
    "    #Input the array\n",
    "    arr = list(map(int, input().split()))\n",
    "    \n",
    "    #Apply Insertion Sort\n",
    "    InsertionSort(arr)\n",
    "    \n",
    "    #print the sorted array\n",
    "    printArray(arr)"
   ]
  },
  {
   "cell_type": "code",
   "execution_count": null,
   "metadata": {},
   "outputs": [],
   "source": []
  }
 ],
 "metadata": {
  "kernelspec": {
   "display_name": "Python 3",
   "language": "python",
   "name": "python3"
  },
  "language_info": {
   "codemirror_mode": {
    "name": "ipython",
    "version": 3
   },
   "file_extension": ".py",
   "mimetype": "text/x-python",
   "name": "python",
   "nbconvert_exporter": "python",
   "pygments_lexer": "ipython3",
   "version": "3.6.5"
  }
 },
 "nbformat": 4,
 "nbformat_minor": 2
}
