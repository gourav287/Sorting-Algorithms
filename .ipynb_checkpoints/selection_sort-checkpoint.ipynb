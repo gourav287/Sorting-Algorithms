{
 "cells": [
  {
   "cell_type": "markdown",
   "metadata": {},
   "source": [
    "# Selection Sort\n",
    "\n",
    "This file contains the program to illustrate working of Selection Sort"
   ]
  },
  {
   "cell_type": "code",
   "execution_count": 1,
   "metadata": {},
   "outputs": [],
   "source": [
    "#Function to sort the array through selection sort\n",
    "def SelectionSort(arr):\n",
    "    n = len(arr)\n",
    "    \n",
    "    #Traversing through every index\n",
    "    for i in range(n):\n",
    "    \n",
    "        #current minimum value's index\n",
    "        min_ind = i\n",
    "        \n",
    "        #Comparing minimum index to all the remaining indexes\n",
    "        for j in range(i+1, n):\n",
    "            if arr[min_ind] > arr[j]:\n",
    "                min_ind = j\n",
    "        \n",
    "        #swapping minimum value to the right position\n",
    "        arr[i], arr[min_ind] = arr[min_ind], arr[i]"
   ]
  },
  {
   "cell_type": "code",
   "execution_count": 2,
   "metadata": {},
   "outputs": [],
   "source": [
    "#Function to print the array\n",
    "def printArray(arr):\n",
    "    \n",
    "    #Printing the array\n",
    "    print(\"The Sorted array is:\")\n",
    "    \n",
    "    #\"*\" prints all the values of a list separated by a unit space\n",
    "    print(*arr)"
   ]
  },
  {
   "cell_type": "code",
   "execution_count": 3,
   "metadata": {},
   "outputs": [
    {
     "name": "stdout",
     "output_type": "stream",
     "text": [
      "1 5 0 9 7 5 4 6 9 8 2 5 3\n",
      "The Sorted array is:\n",
      "0 1 2 3 4 5 5 5 6 7 8 9 9\n"
     ]
    }
   ],
   "source": [
    "#Driver Code\n",
    "if __name__ == '__main__':\n",
    "    \n",
    "    #Input the array\n",
    "    arr = list(map(int, input().split()))\n",
    "    \n",
    "    #Appy Selection Sort\n",
    "    SelectionSort(arr)\n",
    "    \n",
    "    #print the sorted array\n",
    "    printArray(arr)"
   ]
  },
  {
   "cell_type": "code",
   "execution_count": null,
   "metadata": {},
   "outputs": [],
   "source": []
  }
 ],
 "metadata": {
  "kernelspec": {
   "display_name": "Python 3",
   "language": "python",
   "name": "python3"
  },
  "language_info": {
   "codemirror_mode": {
    "name": "ipython",
    "version": 3
   },
   "file_extension": ".py",
   "mimetype": "text/x-python",
   "name": "python",
   "nbconvert_exporter": "python",
   "pygments_lexer": "ipython3",
   "version": "3.6.5"
  }
 },
 "nbformat": 4,
 "nbformat_minor": 2
}
