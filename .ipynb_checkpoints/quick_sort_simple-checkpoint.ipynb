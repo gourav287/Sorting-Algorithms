{
 "cells": [
  {
   "cell_type": "markdown",
   "metadata": {},
   "source": [
    "# Quick Sort\n",
    "\n",
    "This file contains implementation of simple quick sort algorithm.\n",
    "\n",
    "It takes the average time complexity of O(nlogn) while the worst case time complexity of O(n²) \n",
    "\n",
    "You can find my other file with a more optimized implementation of quick sort algorithm."
   ]
  },
  {
   "cell_type": "code",
   "execution_count": 1,
   "metadata": {},
   "outputs": [],
   "source": [
    "# Importing randint from random module\n",
    "from random import randint"
   ]
  },
  {
   "cell_type": "code",
   "execution_count": 2,
   "metadata": {},
   "outputs": [],
   "source": [
    "# Function to implement Partition function of quick sort\n",
    "def Partition(arr, l, r):\n",
    "    \n",
    "    #Initializing the pivot value\n",
    "    pivot_value = arr[l]\n",
    "    \n",
    "    # j will finally be the index where pivot will rest\n",
    "    j = l\n",
    "    \n",
    "    #Looping through the subarray\n",
    "    for i in range(l + 1, r + 1):\n",
    "        \n",
    "        #Swapping an element if its less than the pivot value\n",
    "        if arr[i] < pivot_value:\n",
    "            j += 1\n",
    "            arr[i], arr[j] = arr[j], arr[i]\n",
    "    \n",
    "    # Swapping pivot to its rightful place (sorted)\n",
    "    arr[l], arr[j] = arr[j], arr[l]\n",
    "    \n",
    "    # Return the index of pivot\n",
    "    return j"
   ]
  },
  {
   "cell_type": "code",
   "execution_count": 3,
   "metadata": {},
   "outputs": [],
   "source": [
    "# Function to implement Quick Sort\n",
    "def QuickSort(arr, l, r):\n",
    "    \n",
    "    # check if array is empty\n",
    "    if l >= r:\n",
    "        return\n",
    "    \n",
    "    #Select a pivot value on random\n",
    "    pivot = randint(l, r)\n",
    "    \n",
    "    #Swap pivot value at index 0 for the ease of programming\n",
    "    arr[l], arr[pivot] = arr[pivot], arr[l]\n",
    "    \n",
    "    #Generate the partition value with the pre defined function\n",
    "    m = Partition(arr, l, r)\n",
    "    \n",
    "    #Sort the subarrays\n",
    "    QuickSort(arr, l, m - 1)\n",
    "    \n",
    "    QuickSort(arr, m + 1, r)"
   ]
  },
  {
   "cell_type": "code",
   "execution_count": 4,
   "metadata": {},
   "outputs": [
    {
     "name": "stdout",
     "output_type": "stream",
     "text": [
      "12 54 71 18 45 62 95 72 60 25 56\n",
      "The sorted array is:\n",
      " 12 18 25 45 54 56 60 62 71 72 95\n"
     ]
    }
   ],
   "source": [
    "# The driver code\n",
    "if __name__ == '__main__':\n",
    "    \n",
    "    # Input the array\n",
    "    arr = list(map(int, input().split()))\n",
    "    \n",
    "    # Calculate length of array\n",
    "    n = len(arr)\n",
    "    \n",
    "    #Applying the quick sort algorithm\n",
    "    QuickSort(arr, 0, n-1)\n",
    "    \n",
    "    #Printing the sorted array\n",
    "    print(\"The sorted array is:\\n\", *arr)"
   ]
  },
  {
   "cell_type": "code",
   "execution_count": null,
   "metadata": {},
   "outputs": [],
   "source": []
  }
 ],
 "metadata": {
  "kernelspec": {
   "display_name": "Python 3",
   "language": "python",
   "name": "python3"
  },
  "language_info": {
   "codemirror_mode": {
    "name": "ipython",
    "version": 3
   },
   "file_extension": ".py",
   "mimetype": "text/x-python",
   "name": "python",
   "nbconvert_exporter": "python",
   "pygments_lexer": "ipython3",
   "version": "3.6.5"
  }
 },
 "nbformat": 4,
 "nbformat_minor": 2
}
