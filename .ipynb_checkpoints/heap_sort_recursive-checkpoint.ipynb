{
 "cells": [
  {
   "cell_type": "markdown",
   "metadata": {},
   "source": [
    "# Heap Sort (Recursive)\n",
    "\n",
    "This file contains the recursive implementation of heap sort.\n",
    "\n",
    "It sorts an array with the time complexity of O(nlogn) and hence is a very effective sorting algorithm\n",
    "\n",
    "You can also check for the iterative implementation in the same repository"
   ]
  },
  {
   "cell_type": "code",
   "execution_count": 1,
   "metadata": {},
   "outputs": [],
   "source": [
    "# Function to heapify any array from the desired node\n",
    "def heapify(arr, n, index):\n",
    "    \n",
    "    #Initializing a temporary variable equal to index\n",
    "    curr = index\n",
    "\n",
    "    #Initializing variables for the child nodes' index\n",
    "    c1, c2 = curr * 2 + 1, curr * 2 + 2\n",
    "    \n",
    "    #Comparing left child to the node\n",
    "    if c1 < n and arr[curr] < arr[c1]:\n",
    "        curr = c1\n",
    "\n",
    "    #Comparing right child to the node\n",
    "    if c2 < n and arr[curr] < arr[c2]:\n",
    "        curr = c2\n",
    "    \n",
    "    #Checking if needs to swap\n",
    "    if curr != index:\n",
    "        arr[curr], arr[index] = arr[index], arr[curr]\n",
    "    \n",
    "        #To heapify the swapped sub-tree\n",
    "        arr = heapify(arr, n, curr)\n",
    "\n",
    "    # Returning the heapified array\n",
    "    return arr"
   ]
  },
  {
   "cell_type": "code",
   "execution_count": 2,
   "metadata": {},
   "outputs": [],
   "source": [
    "# Implementing heap sort algorithm\n",
    "def heap_sort(arr, n):\n",
    "\n",
    "    # Create a heap out of the array\n",
    "    for i in range(n//2-1, -1, -1):\n",
    "        arr = heapify(arr, n, i)\n",
    "\n",
    "    # Sorting the entire array using heap\n",
    "    for i in range(n-1, 0, -1):\n",
    "        \n",
    "        arr[0], arr[i] = arr[i], arr[0]\n",
    "\n",
    "        heapify(arr, i, 0)\n",
    "    \n",
    "    # Return the sorted array\n",
    "    return arr"
   ]
  },
  {
   "cell_type": "code",
   "execution_count": 3,
   "metadata": {},
   "outputs": [
    {
     "name": "stdout",
     "output_type": "stream",
     "text": [
      "9 6 4 7 2 1 8 3 0 5\n",
      "0 1 2 3 4 5 6 7 8 9\n"
     ]
    }
   ],
   "source": [
    "# The driver code\n",
    "if __name__ == '__main__':\n",
    "\n",
    "    # Inputting the array\n",
    "    arr = list(map(int, input().split()))\n",
    "\n",
    "    # Applying the heap sort algorithm\n",
    "    sor = heap_sort(arr, len(arr))\n",
    "\n",
    "    # Printing the sorted array\n",
    "    print(*sor)"
   ]
  },
  {
   "cell_type": "code",
   "execution_count": null,
   "metadata": {},
   "outputs": [],
   "source": []
  }
 ],
 "metadata": {
  "kernelspec": {
   "display_name": "Python 3",
   "language": "python",
   "name": "python3"
  },
  "language_info": {
   "codemirror_mode": {
    "name": "ipython",
    "version": 3
   },
   "file_extension": ".py",
   "mimetype": "text/x-python",
   "name": "python",
   "nbconvert_exporter": "python",
   "pygments_lexer": "ipython3",
   "version": "3.7.6"
  }
 },
 "nbformat": 4,
 "nbformat_minor": 4
}
